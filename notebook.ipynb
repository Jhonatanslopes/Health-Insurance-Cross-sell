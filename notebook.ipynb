{
 "cells": [
  {
   "cell_type": "markdown",
   "id": "82419a4e",
   "metadata": {},
   "source": [
    "# CONTEXTO DO PROBLEMA"
   ]
  },
  {
   "cell_type": "markdown",
   "id": "328d32ee",
   "metadata": {},
   "source": [
    "A **Insurance All** é uma empresa que fornece seguro de saúde para seus clientes e o time de produtos está analisando a possibilidade de oferecer aos assegurados, um novo produto: Um seguro de automóveis.\n",
    "\n",
    "Assim como o seguro de saúde, os clientes desse novo plano de seguro de automóveis precisam pagar um valor anualmente à Insurance All para obter um valor assegurado pela empresa, destinado aos custos de um eventual acidente ou dano ao veículo.\n",
    "\n",
    "A Insurance All fez uma pesquisa com cerca de 380 mil clientes sobre o interesse em aderir a um novo produto de seguro de automóveis, no ano passado. Todos os clientes demonstraram interesse ou não em adquirir o seguro de automóvel e essas respostas ficaram salvas em um banco de dados junto com outros atributos dos clientes.\n",
    "\n",
    "O time de produtos selecionou 127 mil novos clientes que não responderam a pesquisa para participar de uma campanha, no qual receberão a oferta do novo produto de seguro de automóveis. A oferta será feita pelo time de vendas através de ligações telefônicas.\n",
    "\n",
    "Contudo, o time de vendas tem uma capacidade de realizar 20 mil ligações dentro do período da campanha."
   ]
  },
  {
   "cell_type": "markdown",
   "id": "72f4a01a",
   "metadata": {},
   "source": [
    "# O PROBLEMA"
   ]
  },
  {
   "cell_type": "markdown",
   "id": "71ab1e99",
   "metadata": {},
   "source": [
    "Nesse contexto, você foi contratado como um consultor de Ciência de Dados para construir um modelo que prediz se o cliente estaria ou não interessado no seguro de automóvel. \n",
    "\n",
    "Com a sua solução, o time de vendas espera conseguir priorizar as pessoas com maior interesse no novo produto e assim, otimizar a campanha realizando apenas contatos aos clientes mais propensos a realizar a compra.\n",
    "\n",
    "\n",
    "Como resultado da sua consultoria, você precisará entregar um relatório contendo algumas análises e respostas às seguintes perguntas:\n",
    "\n",
    "**1.** Principais Insights sobre os atributos mais relevantes de clientes interessados em adquirir um seguro de automóvel.\n",
    "\n",
    "**2.** Qual a porcentagem de clientes interessados em adquirir um seguro de automóvel, o time de vendas conseguirá contatar fazendo 20.000 ligações?\n",
    "\n",
    "**3.** E se a capacidade do time de vendas aumentar para 40.000 ligações, qual a porcentagem de clientes interessados em adquirir um seguro de automóvel o time de vendas conseguirá contatar?\n",
    "\n",
    "**4.** Quantas ligações o time de vendas precisa fazer para contatar 80% dos clientes interessados em adquirir um seguro de automóvel?"
   ]
  },
  {
   "cell_type": "markdown",
   "id": "b675827d",
   "metadata": {},
   "source": [
    "# ENTENDIMENTO DO PROBLEMA"
   ]
  },
  {
   "cell_type": "markdown",
   "id": "d46604cc",
   "metadata": {},
   "source": [
    "- **Motivação:**\n",
    "    - A empresa vai realizar uma campanha para um novo produto (seguro de automóvel).\n",
    "\n",
    "\n",
    "- **Causa Raiz do Problema:**\n",
    "    - Identificar clientes com maior interesse no seguro do automóvel.\n",
    "\n",
    "\n",
    "- **Dados para Resolver o Problema:**\n",
    "    - Os dados estão armazenados em um banco de dados PostgresSQL na AWS.\n",
    "    \n",
    "\n",
    "- **Fomato da Solução:**\n",
    "\n",
    "    - **Granularidade:** Previsão da probabilidade de compra por cliente.\n",
    "    - **Tipo de Problema:** Previsão da probabilidade de compra.\n",
    "    - **Potênciais Métodos:** Ranqueamento, Classificação.\n",
    "    - **Formato da Entrega:** NÃO DEFINIDO"
   ]
  },
  {
   "cell_type": "markdown",
   "id": "9974e43c",
   "metadata": {},
   "source": [
    "# 0.0 IMPORTS"
   ]
  },
  {
   "cell_type": "code",
   "execution_count": 1,
   "id": "9d5e6e4d",
   "metadata": {},
   "outputs": [],
   "source": [
    "# Colect and manipulation\n",
    "import psycopg2 as pg\n",
    "import pandas as pd\n",
    "\n",
    "# Visualization\n",
    "import matplotlib.pyplot as plt\n",
    "import seaborn as sns"
   ]
  },
  {
   "cell_type": "markdown",
   "id": "7123176f",
   "metadata": {},
   "source": [
    "## 0.1 Funções Auxiliares"
   ]
  },
  {
   "cell_type": "markdown",
   "id": "bd085dd2",
   "metadata": {},
   "source": [
    "## 0.2 Coleta de Dados"
   ]
  },
  {
   "cell_type": "code",
   "execution_count": 2,
   "id": "333b0f4b",
   "metadata": {},
   "outputs": [
    {
     "data": {
      "text/html": [
       "<div>\n",
       "<style scoped>\n",
       "    .dataframe tbody tr th:only-of-type {\n",
       "        vertical-align: middle;\n",
       "    }\n",
       "\n",
       "    .dataframe tbody tr th {\n",
       "        vertical-align: top;\n",
       "    }\n",
       "\n",
       "    .dataframe thead th {\n",
       "        text-align: right;\n",
       "    }\n",
       "</style>\n",
       "<table border=\"1\" class=\"dataframe\">\n",
       "  <thead>\n",
       "    <tr style=\"text-align: right;\">\n",
       "      <th></th>\n",
       "      <th>gender</th>\n",
       "      <th>age</th>\n",
       "      <th>region_code</th>\n",
       "      <th>policy_sales_channel</th>\n",
       "      <th>driving_license</th>\n",
       "      <th>vehicle_age</th>\n",
       "      <th>vehicle_damage</th>\n",
       "      <th>previously_insured</th>\n",
       "      <th>annual_premium</th>\n",
       "      <th>vintage</th>\n",
       "      <th>response</th>\n",
       "    </tr>\n",
       "  </thead>\n",
       "  <tbody>\n",
       "    <tr>\n",
       "      <th>0</th>\n",
       "      <td>Male</td>\n",
       "      <td>23</td>\n",
       "      <td>11.0</td>\n",
       "      <td>152.0</td>\n",
       "      <td>1</td>\n",
       "      <td>&lt; 1 Year</td>\n",
       "      <td>Yes</td>\n",
       "      <td>0</td>\n",
       "      <td>23367.0</td>\n",
       "      <td>249</td>\n",
       "      <td>0</td>\n",
       "    </tr>\n",
       "    <tr>\n",
       "      <th>1</th>\n",
       "      <td>Female</td>\n",
       "      <td>41</td>\n",
       "      <td>15.0</td>\n",
       "      <td>14.0</td>\n",
       "      <td>1</td>\n",
       "      <td>1-2 Year</td>\n",
       "      <td>No</td>\n",
       "      <td>1</td>\n",
       "      <td>31409.0</td>\n",
       "      <td>221</td>\n",
       "      <td>0</td>\n",
       "    </tr>\n",
       "    <tr>\n",
       "      <th>2</th>\n",
       "      <td>Female</td>\n",
       "      <td>25</td>\n",
       "      <td>35.0</td>\n",
       "      <td>152.0</td>\n",
       "      <td>1</td>\n",
       "      <td>&lt; 1 Year</td>\n",
       "      <td>No</td>\n",
       "      <td>1</td>\n",
       "      <td>46622.0</td>\n",
       "      <td>299</td>\n",
       "      <td>0</td>\n",
       "    </tr>\n",
       "    <tr>\n",
       "      <th>3</th>\n",
       "      <td>Female</td>\n",
       "      <td>26</td>\n",
       "      <td>8.0</td>\n",
       "      <td>160.0</td>\n",
       "      <td>1</td>\n",
       "      <td>&lt; 1 Year</td>\n",
       "      <td>No</td>\n",
       "      <td>0</td>\n",
       "      <td>2630.0</td>\n",
       "      <td>136</td>\n",
       "      <td>0</td>\n",
       "    </tr>\n",
       "    <tr>\n",
       "      <th>4</th>\n",
       "      <td>Male</td>\n",
       "      <td>45</td>\n",
       "      <td>8.0</td>\n",
       "      <td>124.0</td>\n",
       "      <td>1</td>\n",
       "      <td>1-2 Year</td>\n",
       "      <td>Yes</td>\n",
       "      <td>0</td>\n",
       "      <td>42297.0</td>\n",
       "      <td>264</td>\n",
       "      <td>0</td>\n",
       "    </tr>\n",
       "  </tbody>\n",
       "</table>\n",
       "</div>"
      ],
      "text/plain": [
       "   gender  age  region_code  policy_sales_channel  driving_license  \\\n",
       "0    Male   23         11.0                 152.0                1   \n",
       "1  Female   41         15.0                  14.0                1   \n",
       "2  Female   25         35.0                 152.0                1   \n",
       "3  Female   26          8.0                 160.0                1   \n",
       "4    Male   45          8.0                 124.0                1   \n",
       "\n",
       "  vehicle_age vehicle_damage  previously_insured  annual_premium  vintage  \\\n",
       "0    < 1 Year            Yes                   0         23367.0      249   \n",
       "1    1-2 Year             No                   1         31409.0      221   \n",
       "2    < 1 Year             No                   1         46622.0      299   \n",
       "3    < 1 Year             No                   0          2630.0      136   \n",
       "4    1-2 Year            Yes                   0         42297.0      264   \n",
       "\n",
       "   response  \n",
       "0         0  \n",
       "1         0  \n",
       "2         0  \n",
       "3         0  \n",
       "4         0  "
      ]
     },
     "execution_count": 2,
     "metadata": {},
     "output_type": "execute_result"
    }
   ],
   "source": [
    "# Creadentials\n",
    "HOST     = 'comunidade-ds-postgres.c50pcakiuwi3.us-east-1.rds.amazonaws.com'\n",
    "PORT     ='5432'\n",
    "USER     ='member'\n",
    "DATABASE ='comunidadedsdb'\n",
    "PASSWORD = 'cdspa'\n",
    "\n",
    "\n",
    "try: # Connect DB\n",
    "    conn = pg.connect(\n",
    "        host=HOST,port=PORT, database=DATABASE, user=USER, password=PASSWORD\n",
    "    )\n",
    "    \n",
    "    # Query data\n",
    "    query = \"\"\"\n",
    "        SELECT *\n",
    "        FROM pa004.users u LEFT JOIN pa004.vehicle v on (u.id = v.id)\n",
    "                           LEFT JOIN pa004.insurance i on (u.id = i.id)  \n",
    "    \"\"\"\n",
    "    \n",
    "    # Read in sql and parse to Dataframe\n",
    "    df = pd.read_sql(query, conn)\n",
    "    df = df.drop(df.columns[[5]], axis=1)\n",
    "    conn.close()\n",
    "    \n",
    "except Exception as e: # Connection Error  \n",
    "    print(\"Database connection failed due to {}\".format(e))\n",
    "    \n",
    "df.head()"
   ]
  },
  {
   "cell_type": "markdown",
   "id": "85cc408b",
   "metadata": {},
   "source": [
    "# 1.0 DESCRIÇÃO DE DADOS"
   ]
  },
  {
   "cell_type": "markdown",
   "id": "06caccd6",
   "metadata": {},
   "source": [
    "## 1.1 Dimensão de Dados"
   ]
  },
  {
   "cell_type": "code",
   "execution_count": 3,
   "id": "1d46dca2",
   "metadata": {},
   "outputs": [
    {
     "name": "stdout",
     "output_type": "stream",
     "text": [
      "Nº Rows: 381109\n",
      "Nº Columns: 11\n"
     ]
    }
   ],
   "source": [
    "# Copy data\n",
    "df1 = df.copy()\n",
    "\n",
    "print(f'Nº Rows: {df1.shape[0]}')\n",
    "print(f'Nº Columns: {df1.shape[1]}')"
   ]
  },
  {
   "cell_type": "markdown",
   "id": "80d6619f",
   "metadata": {},
   "source": [
    "## 1.2 Tipo de Dados"
   ]
  },
  {
   "cell_type": "code",
   "execution_count": 4,
   "id": "4a74156d",
   "metadata": {},
   "outputs": [
    {
     "data": {
      "text/plain": [
       "gender                   object\n",
       "age                       int64\n",
       "region_code             float64\n",
       "policy_sales_channel    float64\n",
       "driving_license           int64\n",
       "vehicle_age              object\n",
       "vehicle_damage           object\n",
       "previously_insured        int64\n",
       "annual_premium          float64\n",
       "vintage                   int64\n",
       "response                  int64\n",
       "dtype: object"
      ]
     },
     "execution_count": 4,
     "metadata": {},
     "output_type": "execute_result"
    }
   ],
   "source": [
    "df1.dtypes"
   ]
  },
  {
   "cell_type": "markdown",
   "id": "e6599f83",
   "metadata": {},
   "source": [
    "## 1.3 Verificação de Dados Faltantes"
   ]
  },
  {
   "cell_type": "code",
   "execution_count": 5,
   "id": "59f99b73",
   "metadata": {},
   "outputs": [
    {
     "data": {
      "text/plain": [
       "gender                  0\n",
       "age                     0\n",
       "region_code             0\n",
       "policy_sales_channel    0\n",
       "driving_license         0\n",
       "vehicle_age             0\n",
       "vehicle_damage          0\n",
       "previously_insured      0\n",
       "annual_premium          0\n",
       "vintage                 0\n",
       "response                0\n",
       "dtype: int64"
      ]
     },
     "execution_count": 5,
     "metadata": {},
     "output_type": "execute_result"
    }
   ],
   "source": [
    "df1.isna().sum()"
   ]
  },
  {
   "cell_type": "markdown",
   "id": "8dea82ad",
   "metadata": {},
   "source": [
    "## 1.4 Mudança de Tipo nos Dados"
   ]
  },
  {
   "cell_type": "code",
   "execution_count": 6,
   "id": "84193e8c",
   "metadata": {},
   "outputs": [],
   "source": [
    "# vehicle demage - str to int\n",
    "df1['vehicle_damage'] = df1['vehicle_damage'].apply(lambda x: 1 if x == 'Yes' else 0).astype('int64')"
   ]
  },
  {
   "cell_type": "markdown",
   "id": "6cf8c4ba",
   "metadata": {},
   "source": [
    "## 1.5 Estatistica Descritiva"
   ]
  },
  {
   "cell_type": "markdown",
   "id": "3ad4c614",
   "metadata": {},
   "source": [
    "### 1.5.1 Atributos Numéricos"
   ]
  },
  {
   "cell_type": "code",
   "execution_count": 7,
   "id": "8f6925d9",
   "metadata": {},
   "outputs": [
    {
     "data": {
      "text/html": [
       "<div>\n",
       "<style scoped>\n",
       "    .dataframe tbody tr th:only-of-type {\n",
       "        vertical-align: middle;\n",
       "    }\n",
       "\n",
       "    .dataframe tbody tr th {\n",
       "        vertical-align: top;\n",
       "    }\n",
       "\n",
       "    .dataframe thead th {\n",
       "        text-align: right;\n",
       "    }\n",
       "</style>\n",
       "<table border=\"1\" class=\"dataframe\">\n",
       "  <thead>\n",
       "    <tr style=\"text-align: right;\">\n",
       "      <th></th>\n",
       "      <th>count</th>\n",
       "      <th>mean</th>\n",
       "      <th>std</th>\n",
       "      <th>min</th>\n",
       "      <th>25%</th>\n",
       "      <th>50%</th>\n",
       "      <th>75%</th>\n",
       "      <th>max</th>\n",
       "      <th>skew</th>\n",
       "      <th>kurtosis</th>\n",
       "    </tr>\n",
       "  </thead>\n",
       "  <tbody>\n",
       "    <tr>\n",
       "      <th>age</th>\n",
       "      <td>381109.0</td>\n",
       "      <td>38.822584</td>\n",
       "      <td>15.511611</td>\n",
       "      <td>20.0</td>\n",
       "      <td>25.0</td>\n",
       "      <td>36.0</td>\n",
       "      <td>49.0</td>\n",
       "      <td>85.0</td>\n",
       "      <td>-0.565655</td>\n",
       "      <td>0.672539</td>\n",
       "    </tr>\n",
       "    <tr>\n",
       "      <th>region_code</th>\n",
       "      <td>381109.0</td>\n",
       "      <td>26.388807</td>\n",
       "      <td>13.229888</td>\n",
       "      <td>0.0</td>\n",
       "      <td>15.0</td>\n",
       "      <td>28.0</td>\n",
       "      <td>35.0</td>\n",
       "      <td>52.0</td>\n",
       "      <td>-0.867857</td>\n",
       "      <td>-0.115266</td>\n",
       "    </tr>\n",
       "    <tr>\n",
       "      <th>policy_sales_channel</th>\n",
       "      <td>381109.0</td>\n",
       "      <td>112.034295</td>\n",
       "      <td>54.203995</td>\n",
       "      <td>1.0</td>\n",
       "      <td>29.0</td>\n",
       "      <td>133.0</td>\n",
       "      <td>152.0</td>\n",
       "      <td>163.0</td>\n",
       "      <td>-0.970810</td>\n",
       "      <td>-0.900008</td>\n",
       "    </tr>\n",
       "    <tr>\n",
       "      <th>driving_license</th>\n",
       "      <td>381109.0</td>\n",
       "      <td>0.997869</td>\n",
       "      <td>0.046110</td>\n",
       "      <td>0.0</td>\n",
       "      <td>1.0</td>\n",
       "      <td>1.0</td>\n",
       "      <td>1.0</td>\n",
       "      <td>1.0</td>\n",
       "      <td>464.354302</td>\n",
       "      <td>-21.595182</td>\n",
       "    </tr>\n",
       "    <tr>\n",
       "      <th>vehicle_damage</th>\n",
       "      <td>381109.0</td>\n",
       "      <td>0.504877</td>\n",
       "      <td>0.499977</td>\n",
       "      <td>0.0</td>\n",
       "      <td>0.0</td>\n",
       "      <td>1.0</td>\n",
       "      <td>1.0</td>\n",
       "      <td>1.0</td>\n",
       "      <td>-1.999630</td>\n",
       "      <td>-0.019507</td>\n",
       "    </tr>\n",
       "    <tr>\n",
       "      <th>previously_insured</th>\n",
       "      <td>381109.0</td>\n",
       "      <td>0.458210</td>\n",
       "      <td>0.498251</td>\n",
       "      <td>0.0</td>\n",
       "      <td>0.0</td>\n",
       "      <td>0.0</td>\n",
       "      <td>1.0</td>\n",
       "      <td>1.0</td>\n",
       "      <td>-1.971871</td>\n",
       "      <td>0.167747</td>\n",
       "    </tr>\n",
       "    <tr>\n",
       "      <th>annual_premium</th>\n",
       "      <td>381109.0</td>\n",
       "      <td>30564.389581</td>\n",
       "      <td>17213.155057</td>\n",
       "      <td>2630.0</td>\n",
       "      <td>24405.0</td>\n",
       "      <td>31669.0</td>\n",
       "      <td>39400.0</td>\n",
       "      <td>540165.0</td>\n",
       "      <td>34.004569</td>\n",
       "      <td>1.766087</td>\n",
       "    </tr>\n",
       "    <tr>\n",
       "      <th>vintage</th>\n",
       "      <td>381109.0</td>\n",
       "      <td>154.347397</td>\n",
       "      <td>83.671304</td>\n",
       "      <td>10.0</td>\n",
       "      <td>82.0</td>\n",
       "      <td>154.0</td>\n",
       "      <td>227.0</td>\n",
       "      <td>299.0</td>\n",
       "      <td>-1.200688</td>\n",
       "      <td>0.003030</td>\n",
       "    </tr>\n",
       "    <tr>\n",
       "      <th>response</th>\n",
       "      <td>381109.0</td>\n",
       "      <td>0.122563</td>\n",
       "      <td>0.327936</td>\n",
       "      <td>0.0</td>\n",
       "      <td>0.0</td>\n",
       "      <td>0.0</td>\n",
       "      <td>0.0</td>\n",
       "      <td>1.0</td>\n",
       "      <td>3.298788</td>\n",
       "      <td>2.301906</td>\n",
       "    </tr>\n",
       "  </tbody>\n",
       "</table>\n",
       "</div>"
      ],
      "text/plain": [
       "                         count          mean           std     min      25%  \\\n",
       "age                   381109.0     38.822584     15.511611    20.0     25.0   \n",
       "region_code           381109.0     26.388807     13.229888     0.0     15.0   \n",
       "policy_sales_channel  381109.0    112.034295     54.203995     1.0     29.0   \n",
       "driving_license       381109.0      0.997869      0.046110     0.0      1.0   \n",
       "vehicle_damage        381109.0      0.504877      0.499977     0.0      0.0   \n",
       "previously_insured    381109.0      0.458210      0.498251     0.0      0.0   \n",
       "annual_premium        381109.0  30564.389581  17213.155057  2630.0  24405.0   \n",
       "vintage               381109.0    154.347397     83.671304    10.0     82.0   \n",
       "response              381109.0      0.122563      0.327936     0.0      0.0   \n",
       "\n",
       "                          50%      75%       max        skew   kurtosis  \n",
       "age                      36.0     49.0      85.0   -0.565655   0.672539  \n",
       "region_code              28.0     35.0      52.0   -0.867857  -0.115266  \n",
       "policy_sales_channel    133.0    152.0     163.0   -0.970810  -0.900008  \n",
       "driving_license           1.0      1.0       1.0  464.354302 -21.595182  \n",
       "vehicle_damage            1.0      1.0       1.0   -1.999630  -0.019507  \n",
       "previously_insured        0.0      1.0       1.0   -1.971871   0.167747  \n",
       "annual_premium        31669.0  39400.0  540165.0   34.004569   1.766087  \n",
       "vintage                 154.0    227.0     299.0   -1.200688   0.003030  \n",
       "response                  0.0      0.0       1.0    3.298788   2.301906  "
      ]
     },
     "execution_count": 7,
     "metadata": {},
     "output_type": "execute_result"
    }
   ],
   "source": [
    "# Select numerical data\n",
    "numerical = df1.select_dtypes(include=['int64', 'float64'])\n",
    "\n",
    "# Calculate kurtosis and skew\n",
    "kurtosis = numerical.apply(lambda x: x.skew())\n",
    "skew = numerical.apply(lambda x: x.kurtosis())\n",
    "\n",
    "# Describe data\n",
    "describe = numerical.describe().T\n",
    "\n",
    "# Add skew and kurtosis in describe\n",
    "describe['skew'] = skew\n",
    "describe['kurtosis'] = kurtosis\n",
    "\n",
    "# Show describe\n",
    "describe"
   ]
  },
  {
   "cell_type": "markdown",
   "id": "579ec5e3",
   "metadata": {},
   "source": [
    "**Insight:**\n",
    "\n",
    "<ins>Distribuição</ins>: Em geral, os dados não possuem erros ou inconsistências e, no total, os dados não parecem estar tão dispensos.\n",
    "\n",
    "<ins>Negócio</ins>: Os clientes possuem idade média de 38 anos e há clientes na base entre 20 e 85 anos. 75% da base já possuiu previamente algum tipo de seguro com a Insurance All. Em média, os clientes pagaram 30K para obter cobertura de seguro e o valor máximo pago foi de  540K. Em média, há 112 formas de entrar em contato com os clientes e, em média, há clientes durante 154 dias e clientes mais recentes possuem 10 dias como clientes. E com a pesquisa feita pela empresa, 75% das pessoas informaram que não compraria o seguro de automóvel."
   ]
  },
  {
   "cell_type": "markdown",
   "id": "6447704e",
   "metadata": {},
   "source": [
    "### 1.5.2 Atributos Categóricos"
   ]
  },
  {
   "cell_type": "code",
   "execution_count": 8,
   "id": "271989a1",
   "metadata": {},
   "outputs": [
    {
     "data": {
      "image/png": "[encoded data removed]",
      "text/plain": [
       "<Figure size 1080x360 with 1 Axes>"
      ]
     },
     "metadata": {
      "needs_background": "light"
     },
     "output_type": "display_data"
    }
   ],
   "source": [
    "# Select categorical data\n",
    "categorical = df1.select_dtypes(include=['object'])\n",
    "\n",
    "# Count possible categorical values\n",
    "unique_values = categorical.apply(lambda x: len(x.unique())).reset_index().rename(\n",
    "    columns={'index': 'columns', 0: 'values'}).sort_values(by='values')\n",
    "\n",
    "# Figure\n",
    "plt.figure(figsize=(15, 5))\n",
    "sns.barplot(x='columns', y='values', data=unique_values)\n",
    "sns.despine(right=True)"
   ]
  },
  {
   "cell_type": "markdown",
   "id": "5809c4d2",
   "metadata": {},
   "source": [
    "**Insight:**\n",
    "\n",
    "As variáveis categóricas possuem um range entre 2 e 3 dos possíveis valores."
   ]
  },
  {
   "cell_type": "markdown",
   "id": "d58ead10",
   "metadata": {},
   "source": [
    "# 2.0 FEATURE ENGINEERING"
   ]
  },
  {
   "cell_type": "markdown",
   "id": "2c0e97ac",
   "metadata": {},
   "source": [
    "## 2.1 Mapa Mental de Hipóteses"
   ]
  },
  {
   "cell_type": "markdown",
   "id": "9651aa7a",
   "metadata": {},
   "source": [
    "<p align=\"center\">\n",
    "  <img src=\"img/mind_map.PNG\" width=\"1000\" title=\"img-principal\">\n",
    "</p>"
   ]
  },
  {
   "cell_type": "markdown",
   "id": "1d9ec7c5",
   "metadata": {},
   "source": [
    "## 2.2 Lista de Hipóteses"
   ]
  },
  {
   "cell_type": "markdown",
   "id": "78645d7e",
   "metadata": {},
   "source": [
    "### 2.2.1 Hipóteses Automóvel"
   ]
  },
  {
   "cell_type": "markdown",
   "id": "71818b3c",
   "metadata": {},
   "source": [
    "**1.** Pessoas com automóveis quitados possuem interesse em contratar um seguro.\n",
    "\n",
    "**2.** Pessoas com automóveis de trabalho não possuem interesse em contratar um seguro.\n",
    "\n",
    "**3.** Pessoas com automóveis recém comprados possuem interesse em contratar um segeuro.\n",
    "\n",
    "**4.** Pessoas com automóveis mais antigos não possuem interesse em contratar um seguro.\n",
    "\n",
    "**5.** Pessoas com automóveis mais caros possuem interesse em contratar um seguro."
   ]
  },
  {
   "cell_type": "markdown",
   "id": "2487761c",
   "metadata": {},
   "source": [
    "### 2.2.2 Hipóteses Valor"
   ]
  },
  {
   "cell_type": "markdown",
   "id": "07504aa0",
   "metadata": {},
   "source": [
    "**1.** Pessoas não estão interessadas em contratar seguro com valoranual maior que 30K.\n",
    "\n",
    "**2.** Pessoas estão interessas em contratar seguro com valor mensal menor que 2k.\n",
    "\n",
    "**3.** Pessoas que investem mais em conservação do automóvel estão interessadas em contratar um seguro.\n",
    "\n",
    "**4.** Pessoas que obtem um valor de cobertura do seguro acima de 100k estão interessados em contratar um seguro."
   ]
  },
  {
   "cell_type": "markdown",
   "id": "e9e6c247",
   "metadata": {},
   "source": [
    "### 2.2.3 Hipóteses Cliente"
   ]
  },
  {
   "cell_type": "markdown",
   "id": "df59af26",
   "metadata": {},
   "source": [
    "**1.** Pessoas que já possuiram seu automóvel roubado, estão interessadas em contratar um seguro.\n",
    "\n",
    "**2.** Pessoas que já tiveram seu carro batido, estão interessados em contratar um seguro.\n",
    "\n",
    "**3.** Pessoas com idade maior que 30, estão interessadas em contratar um seguro.\n",
    "\n",
    "**3.** Pessoas do sexo feminino são mais interessadas em contratar um seguro.\n",
    "\n",
    "**4.** Pessoas que já tiveram aciendente grave, estão mais interessadas em contratar um seguro."
   ]
  },
  {
   "cell_type": "markdown",
   "id": "35a53f12",
   "metadata": {},
   "source": [
    "### 2.2.4 Hipóteses Região"
   ]
  },
  {
   "cell_type": "markdown",
   "id": "798b309b",
   "metadata": {},
   "source": [
    "**1.** Pessoas que estão localizadas em área de risco, estão mais interessadas em contratar um seguro.\n",
    "\n",
    "**2.** Pessoas que deixam o automóvel em condomino, estão menos interessadas em contratar um seguro.\n",
    "\n",
    "**3.** Pessoas que deixam o automóvel na rua, estão mais interessadas em contratar um seguro.\n",
    "\n",
    "**4.** Pessoas que estão localizadas em áreas de grande circulação de veículos, possuem maior interesse em contratar um seguro."
   ]
  },
  {
   "cell_type": "markdown",
   "id": "ccde964f",
   "metadata": {},
   "source": [
    "## 2.3 Lista Final de Hipóteses"
   ]
  },
  {
   "cell_type": "markdown",
   "id": "1f9cbb14",
   "metadata": {},
   "source": [
    "**1.** Pessoas com automóveis recém comprados possuem interesse em contratar um segeuro. **VERIFICAR**\n",
    "\n",
    "**2.** Pessoas com automóveis mais antigos não possuem interesse em contratar um seguro.\n",
    "\n",
    "**3.** Pessoas não estão interessadas em contratar seguro com valor anual maior que 30K. \n",
    "\n",
    "**4.** Pessoas estão interessas em contratar seguro com valor mensal menor que 2k. \n",
    "\n",
    "**5.** Pessoas que investem mais em conservação do automóvel estão interessadas em contratar um seguro. \n",
    "\n",
    "**6.** Pessoas com idade maior que 30, estão interessadas em contratar um seguro. \n",
    "\n",
    "**7.** Pessoas do sexo feminino são mais interessadas em contratar um seguro. \n",
    "\n",
    "**8.** Pessoas que não possuem CNH, não estão interessadas em contratar um seguro.\n",
    "\n",
    "**9.** Pessoas que já são clientes, estão interessadas em contratar um seguro. \n",
    "\n",
    "**10.** Pessoas que são clientes a mais de 60 dias, estão interessadas em contratar um seguro."
   ]
  },
  {
   "cell_type": "markdown",
   "id": "45e0c0e3",
   "metadata": {},
   "source": [
    "## 2.4 Feature Engineering"
   ]
  },
  {
   "cell_type": "code",
   "execution_count": 18,
   "id": "e7f22ab0",
   "metadata": {},
   "outputs": [],
   "source": [
    "# Copy dataframe\n",
    "df2 = df1.copy()\n",
    "\n",
    "# monthly_premium: Monthly amount paid\n",
    "df2['monthly_premium'] = df2['annual_premium'].apply(lambda x: x / 12).round()\n",
    "\n",
    "# age_category: over 30 years old or under and equal 30 years old.\n",
    "df2['age_category'] = df2['age'].apply(lambda x: 'over_30_years' if x > 30 else 'between_30_years')\n",
    "\n",
    "# vintage_category: between 60 day or more than 60 days.\n",
    "df2['vintage_category'] = df2['vintage'].apply(lambda x: 'between_60_days' if x < 60 else 'more_60_days')"
   ]
  },
  {
   "cell_type": "markdown",
   "id": "f778459f",
   "metadata": {},
   "source": [
    "# 3.0 <s>FILTRAGEM DE DADOS<s>"
   ]
  },
  {
   "cell_type": "markdown",
   "id": "43e47c67",
   "metadata": {},
   "source": [
    "## 3.1 <s>Filtragem de Linhas<s>"
   ]
  },
  {
   "cell_type": "markdown",
   "id": "eee3ccd0",
   "metadata": {},
   "source": [
    "## 3.2 <s>Filtragem de Colunas<s>"
   ]
  },
  {
   "cell_type": "markdown",
   "id": "509e2290",
   "metadata": {},
   "source": [
    "# 4.0 EDA"
   ]
  },
  {
   "cell_type": "markdown",
   "id": "61486037",
   "metadata": {},
   "source": [
    "## 4.1 Análise Univariada"
   ]
  },
  {
   "cell_type": "markdown",
   "id": "a7b8ad76",
   "metadata": {},
   "source": [
    "### 4.1.1 Variável Resposta"
   ]
  },
  {
   "cell_type": "code",
   "execution_count": 39,
   "id": "a9087143",
   "metadata": {},
   "outputs": [
    {
     "data": {
      "image/png": "[encoded data removed]",
      "text/plain": [
       "<Figure size 1080x432 with 1 Axes>"
      ]
     },
     "metadata": {
      "needs_background": "light"
     },
     "output_type": "display_data"
    }
   ],
   "source": [
    "# Copy dataframe\n",
    "df3 = df2.copy()\n",
    "\n",
    "plt.figure(figsize=(15, 6))\n",
    "sns.countplot(x='response', data=df3)\n",
    "sns.despine(right=True);"
   ]
  },
  {
   "cell_type": "markdown",
   "id": "281cb3b8",
   "metadata": {},
   "source": [
    "**Insight:**"
   ]
  },
  {
   "cell_type": "markdown",
   "id": "7208d8ac",
   "metadata": {},
   "source": [
    "### 4.1.2 Variável Numérica"
   ]
  },
  {
   "cell_type": "code",
   "execution_count": 45,
   "id": "df049ca9",
   "metadata": {},
   "outputs": [
    {
     "data": {
      "image/png": "[encoded data removed]",
      "text/plain": [
       "<Figure size 1080x1080 with 12 Axes>"
      ]
     },
     "metadata": {
      "needs_background": "light"
     },
     "output_type": "display_data"
    }
   ],
   "source": [
    "# Filter numerical data\n",
    "numerical = df3.select_dtypes(include=['int64', 'float64'])\n",
    "\n",
    "# Figure\n",
    "numerical.hist(grid=False, bins=25, ec='k', figsize=(15, 15))\n",
    "sns.despine(right=True);"
   ]
  },
  {
   "cell_type": "markdown",
   "id": "76c15927",
   "metadata": {},
   "source": [
    "**Insight:**"
   ]
  },
  {
   "cell_type": "markdown",
   "id": "e3d41b21",
   "metadata": {},
   "source": [
    "### 4.1.3 Variável Categórica"
   ]
  },
  {
   "cell_type": "code",
   "execution_count": 47,
   "id": "c5ced2b3",
   "metadata": {},
   "outputs": [
    {
     "data": {
      "image/png": "[encoded data removed]",
      "text/plain": [
       "<Figure size 1080x792 with 4 Axes>"
      ]
     },
     "metadata": {
      "needs_background": "light"
     },
     "output_type": "display_data"
    }
   ],
   "source": [
    "# Filter categorical data\n",
    "categorical = df3.select_dtypes(include=['object'])\n",
    "\n",
    "# Figure 1\n",
    "plt.figure(figsize=(15, 11))\n",
    "plt.subplot(2, 2, 1)\n",
    "sns.countplot(x='gender', data=df3)\n",
    "\n",
    "# Figure 2\n",
    "plt.subplot(2, 2, 2)\n",
    "sns.countplot(x='vehicle_age', data=df3)\n",
    "\n",
    "# Figure 3\n",
    "plt.subplot(2, 2, 3)\n",
    "sns.countplot(x='age_category', data=df3)\n",
    "\n",
    "# Figure 4\n",
    "plt.subplot(2, 2, 4)\n",
    "sns.countplot(x='vintage_category', data=df3)\n",
    "sns.despine(right=True);"
   ]
  },
  {
   "cell_type": "markdown",
   "id": "1661b570",
   "metadata": {},
   "source": [
    "**Insight:**"
   ]
  },
  {
   "cell_type": "markdown",
   "id": "73d81163",
   "metadata": {},
   "source": [
    "## 4.2 Análise Bivariada"
   ]
  },
  {
   "cell_type": "markdown",
   "id": "85ca2386",
   "metadata": {},
   "source": [
    "### <s>H1. Pessoas com automóveis recém comprados possuem interesse em contratar um segeuro.<s> **VERIFICAR**"
   ]
  },
  {
   "cell_type": "markdown",
   "id": "49e97531",
   "metadata": {},
   "source": [
    "### H2. Pessoas com automóveis mais antigos não possuem interesse em contratar um seguro."
   ]
  },
  {
   "cell_type": "markdown",
   "id": "25be6c52",
   "metadata": {},
   "source": [
    "### H3. Pessoas não estão interessadas em contratar seguro com valor anual maior que 30K. "
   ]
  },
  {
   "cell_type": "markdown",
   "id": "afe1ae10",
   "metadata": {},
   "source": [
    "### H4. Pessoas estão interessas em contratar seguro com valor mensal menor que 2k."
   ]
  },
  {
   "cell_type": "markdown",
   "id": "bd766330",
   "metadata": {},
   "source": [
    "### H5. Pessoas que investem mais em conservação do automóvel estão interessadas em contratar um seguro."
   ]
  },
  {
   "cell_type": "markdown",
   "id": "d1c2cc81",
   "metadata": {},
   "source": [
    "### H6. Pessoas com idade maior que 30, estão interessadas em contratar um seguro."
   ]
  },
  {
   "cell_type": "markdown",
   "id": "dfeef8b9",
   "metadata": {},
   "source": [
    "### H7. Pessoas do sexo feminino são mais interessadas em contratar um seguro."
   ]
  },
  {
   "cell_type": "markdown",
   "id": "e2c6541f",
   "metadata": {},
   "source": [
    "### H8. Pessoas que não possuem CNH, não estão interessadas em contratar um seguro."
   ]
  },
  {
   "cell_type": "markdown",
   "id": "8c2a98e7",
   "metadata": {},
   "source": [
    "### H9. Pessoas que já são clientes, estão interessadas em contratar um seguro. "
   ]
  },
  {
   "cell_type": "markdown",
   "id": "7eb0043b",
   "metadata": {},
   "source": [
    "### H10. Pessoas que são clientes a mais de 60 dias, estão interessadas em contratar um seguro."
   ]
  },
  {
   "cell_type": "markdown",
   "id": "959af466",
   "metadata": {},
   "source": [
    "## 4.3 Análise Multivariada"
   ]
  },
  {
   "cell_type": "markdown",
   "id": "82811620",
   "metadata": {},
   "source": [
    "### 4.3.1 Variável Numérica"
   ]
  },
  {
   "cell_type": "markdown",
   "id": "dd472670",
   "metadata": {},
   "source": [
    "### 4.3.2 Variável Categórica"
   ]
  },
  {
   "cell_type": "markdown",
   "id": "ad545df9",
   "metadata": {},
   "source": [
    "Gênero : gender\n",
    "\n",
    "Idade : age\n",
    "\n",
    "Code da região : region_code\n",
    "\n",
    "Qtd. de contato : policy_sales_channel\n",
    "\n",
    "CNH : driving_license\n",
    "\n",
    "Idade do veículo : vehicle_age\n",
    "\n",
    "Danos do veículo : vehicle_damage\n",
    "\n",
    "Se a pessoa já é cliente : previously_insured\n",
    "\n",
    "Valor da cobertura do seguro anual : annual_premium\n",
    "\n",
    "Tempo em que a pessoas é cliente em dias : vintage\n",
    "\n",
    "Se o cliente está interessado ou não no seguro : response"
   ]
  }
 ],
 "metadata": {
  "kernelspec": {
   "display_name": "Python 3 (ipykernel)",
   "language": "python",
   "name": "python3"
  },
  "language_info": {
   "codemirror_mode": {
    "name": "ipython",
    "version": 3
   },
   "file_extension": ".py",
   "mimetype": "text/x-python",
   "name": "python",
   "nbconvert_exporter": "python",
   "pygments_lexer": "ipython3",
   "version": "3.9.6"
  }
 },
 "nbformat": 4,
 "nbformat_minor": 5
}
