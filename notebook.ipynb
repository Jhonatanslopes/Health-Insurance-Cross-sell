{
 "cells": [
  {
   "cell_type": "markdown",
   "id": "3ef91ecc",
   "metadata": {},
   "source": [
    "# CONTEXTO DO PROBLEMA"
   ]
  },
  {
   "cell_type": "markdown",
   "id": "efaddcc5",
   "metadata": {},
   "source": [
    "A **Insurance All** é uma empresa que fornece seguro de saúde para seus clientes e o time de produtos está analisando a possibilidade de oferecer aos assegurados, um novo produto: Um seguro de automóveis.\n",
    "\n",
    "Assim como o seguro de saúde, os clientes desse novo plano de seguro de automóveis precisam pagar um valor anualmente à Insurance All para obter um valor assegurado pela empresa, destinado aos custos de um eventual acidente ou dano ao veículo.\n",
    "\n",
    "A Insurance All fez uma pesquisa com cerca de 380 mil clientes sobre o interesse em aderir a um novo produto de seguro de automóveis, no ano passado. Todos os clientes demonstraram interesse ou não em adquirir o seguro de automóvel e essas respostas ficaram salvas em um banco de dados junto com outros atributos dos clientes.\n",
    "\n",
    "O time de produtos selecionou 127 mil novos clientes que não responderam a pesquisa para participar de uma campanha, no qual receberão a oferta do novo produto de seguro de automóveis. A oferta será feita pelo time de vendas através de ligações telefônicas.\n",
    "\n",
    "Contudo, o time de vendas tem uma capacidade de realizar 20 mil ligações dentro do período da campanha."
   ]
  },
  {
   "cell_type": "markdown",
   "id": "6a1d46a7",
   "metadata": {},
   "source": [
    "# O PROBLEMA"
   ]
  },
  {
   "cell_type": "markdown",
   "id": "f469ad04",
   "metadata": {},
   "source": [
    "Nesse contexto, você foi contratado como um consultor de Ciência de Dados para construir um modelo que prediz se o cliente estaria ou não interessado no seguro de automóvel. \n",
    "\n",
    "Com a sua solução, o time de vendas espera conseguir priorizar as pessoas com maior interesse no novo produto e assim, otimizar a campanha realizando apenas contatos aos clientes mais propensos a realizar a compra.\n",
    "\n",
    "\n",
    "Como resultado da sua consultoria, você precisará entregar um relatório contendo algumas análises e respostas às seguintes perguntas:\n",
    "\n",
    "**1.** Principais Insights sobre os atributos mais relevantes de clientes interessados em adquirir um seguro de automóvel.\n",
    "\n",
    "**2.** Qual a porcentagem de clientes interessados em adquirir um seguro de automóvel, o time de vendas conseguirá contatar fazendo 20.000 ligações?\n",
    "\n",
    "**3.** E se a capacidade do time de vendas aumentar para 40.000 ligações, qual a porcentagem de clientes interessados em adquirir um seguro de automóvel o time de vendas conseguirá contatar?\n",
    "\n",
    "**4.** Quantas ligações o time de vendas precisa fazer para contatar 80% dos clientes interessados em adquirir um seguro de automóvel?"
   ]
  },
  {
   "cell_type": "markdown",
   "id": "721e59d6",
   "metadata": {},
   "source": [
    "# ENTENDIMENTO DO PROBLEMA"
   ]
  },
  {
   "cell_type": "markdown",
   "id": "5f2cf1f0",
   "metadata": {},
   "source": [
    "- **Motivação:**\n",
    "    - A empresa vai realizar uma campanha para um novo produto (seguro de automóvel).\n",
    "\n",
    "\n",
    "- **Causa Raiz do Problema:**\n",
    "    - Identificar clientes interessados no seguro do automóvel.\n",
    "\n",
    "\n",
    "- **Dados para Resolver o Problema:**\n",
    "    - Os dados estão armazenados em um banco de dados PostgresSQL na AWS.\n",
    "    \n",
    "\n",
    "- **Planejamento da Solução:**"
   ]
  },
  {
   "cell_type": "markdown",
   "id": "8ab59d43",
   "metadata": {},
   "source": [
    "# 0.0 IMPORTS"
   ]
  },
  {
   "cell_type": "code",
   "execution_count": 58,
   "id": "523aabdb",
   "metadata": {},
   "outputs": [],
   "source": [
    "import psycopg2 as pg\n",
    "import boto3\n",
    "import pandas as pd"
   ]
  },
  {
   "cell_type": "markdown",
   "id": "57b08af4",
   "metadata": {},
   "source": [
    "## 0.1 Funções Auxiliares"
   ]
  },
  {
   "cell_type": "markdown",
   "id": "7876a454",
   "metadata": {},
   "source": [
    "## 0.2 Coleta de Dados"
   ]
  },
  {
   "cell_type": "code",
   "execution_count": 64,
   "id": "2d566d31",
   "metadata": {},
   "outputs": [
    {
     "data": {
      "text/html": [
       "<div>\n",
       "<style scoped>\n",
       "    .dataframe tbody tr th:only-of-type {\n",
       "        vertical-align: middle;\n",
       "    }\n",
       "\n",
       "    .dataframe tbody tr th {\n",
       "        vertical-align: top;\n",
       "    }\n",
       "\n",
       "    .dataframe thead th {\n",
       "        text-align: right;\n",
       "    }\n",
       "</style>\n",
       "<table border=\"1\" class=\"dataframe\">\n",
       "  <thead>\n",
       "    <tr style=\"text-align: right;\">\n",
       "      <th></th>\n",
       "      <th>gender</th>\n",
       "      <th>age</th>\n",
       "      <th>region_code</th>\n",
       "      <th>policy_sales_channel</th>\n",
       "      <th>driving_license</th>\n",
       "      <th>vehicle_age</th>\n",
       "      <th>vehicle_damage</th>\n",
       "      <th>previously_insured</th>\n",
       "      <th>annual_premium</th>\n",
       "      <th>vintage</th>\n",
       "      <th>response</th>\n",
       "    </tr>\n",
       "  </thead>\n",
       "  <tbody>\n",
       "    <tr>\n",
       "      <th>0</th>\n",
       "      <td>Female</td>\n",
       "      <td>56</td>\n",
       "      <td>28.0</td>\n",
       "      <td>26.0</td>\n",
       "      <td>1</td>\n",
       "      <td>1-2 Year</td>\n",
       "      <td>Yes</td>\n",
       "      <td>0</td>\n",
       "      <td>32031.0</td>\n",
       "      <td>72</td>\n",
       "      <td>1</td>\n",
       "    </tr>\n",
       "    <tr>\n",
       "      <th>1</th>\n",
       "      <td>Female</td>\n",
       "      <td>47</td>\n",
       "      <td>35.0</td>\n",
       "      <td>124.0</td>\n",
       "      <td>1</td>\n",
       "      <td>1-2 Year</td>\n",
       "      <td>Yes</td>\n",
       "      <td>0</td>\n",
       "      <td>47576.0</td>\n",
       "      <td>46</td>\n",
       "      <td>1</td>\n",
       "    </tr>\n",
       "    <tr>\n",
       "      <th>2</th>\n",
       "      <td>Male</td>\n",
       "      <td>45</td>\n",
       "      <td>8.0</td>\n",
       "      <td>124.0</td>\n",
       "      <td>1</td>\n",
       "      <td>1-2 Year</td>\n",
       "      <td>Yes</td>\n",
       "      <td>0</td>\n",
       "      <td>42297.0</td>\n",
       "      <td>264</td>\n",
       "      <td>0</td>\n",
       "    </tr>\n",
       "    <tr>\n",
       "      <th>3</th>\n",
       "      <td>Female</td>\n",
       "      <td>54</td>\n",
       "      <td>28.0</td>\n",
       "      <td>122.0</td>\n",
       "      <td>1</td>\n",
       "      <td>1-2 Year</td>\n",
       "      <td>No</td>\n",
       "      <td>0</td>\n",
       "      <td>38560.0</td>\n",
       "      <td>184</td>\n",
       "      <td>0</td>\n",
       "    </tr>\n",
       "    <tr>\n",
       "      <th>4</th>\n",
       "      <td>Female</td>\n",
       "      <td>49</td>\n",
       "      <td>3.0</td>\n",
       "      <td>152.0</td>\n",
       "      <td>1</td>\n",
       "      <td>1-2 Year</td>\n",
       "      <td>No</td>\n",
       "      <td>1</td>\n",
       "      <td>25553.0</td>\n",
       "      <td>130</td>\n",
       "      <td>0</td>\n",
       "    </tr>\n",
       "  </tbody>\n",
       "</table>\n",
       "</div>"
      ],
      "text/plain": [
       "   gender  age  region_code  policy_sales_channel  driving_license  \\\n",
       "0  Female   56         28.0                  26.0                1   \n",
       "1  Female   47         35.0                 124.0                1   \n",
       "2    Male   45          8.0                 124.0                1   \n",
       "3  Female   54         28.0                 122.0                1   \n",
       "4  Female   49          3.0                 152.0                1   \n",
       "\n",
       "  vehicle_age vehicle_damage  previously_insured  annual_premium  vintage  \\\n",
       "0    1-2 Year            Yes                   0         32031.0       72   \n",
       "1    1-2 Year            Yes                   0         47576.0       46   \n",
       "2    1-2 Year            Yes                   0         42297.0      264   \n",
       "3    1-2 Year             No                   0         38560.0      184   \n",
       "4    1-2 Year             No                   1         25553.0      130   \n",
       "\n",
       "   response  \n",
       "0         1  \n",
       "1         1  \n",
       "2         0  \n",
       "3         0  \n",
       "4         0  "
      ]
     },
     "execution_count": 64,
     "metadata": {},
     "output_type": "execute_result"
    }
   ],
   "source": [
    "# Creadentials\n",
    "HOST= 'comunidade-ds-postgres.c50pcakiuwi3.us-east-1.rds.amazonaws.com'\n",
    "PORT='5432'\n",
    "USER='member'\n",
    "DATABASE='comunidadedsdb'\n",
    "PASSWORD = 'cdspa'\n",
    "\n",
    "\n",
    "try: # Connect DB\n",
    "    conn = pg.connect(\n",
    "        host=HOST,port=PORT, database=DATABASE, user=USER, password=PASSWORD\n",
    "    )\n",
    "    \n",
    "    # Query data\n",
    "    query = \"\"\"\n",
    "        SELECT *\n",
    "        FROM pa004.users u LEFT JOIN pa004.vehicle v on (u.id = v.id)\n",
    "                           LEFT JOIN pa004.insurance i on (u.id = i.id)  \n",
    "        WHERE u.age > 44\n",
    "\"\"\"\n",
    "    \n",
    "    # Read in sql and parse to Dataframe\n",
    "    df = pd.read_sql(query, conn)\n",
    "    df = df.drop(df.columns[[5, 9]], axis=1)\n",
    "    \n",
    "except Exception as e: # Connection Error  \n",
    "    print(\"Database connection failed due to {}\".format(e))\n",
    "    \n",
    "df.head()"
   ]
  },
  {
   "cell_type": "markdown",
   "id": "2029f543",
   "metadata": {},
   "source": [
    "# 1.0 DESCRIÇÃO DE DADOS"
   ]
  }
 ],
 "metadata": {
  "kernelspec": {
   "display_name": "Python 3 (ipykernel)",
   "language": "python",
   "name": "python3"
  },
  "language_info": {
   "codemirror_mode": {
    "name": "ipython",
    "version": 3
   },
   "file_extension": ".py",
   "mimetype": "text/x-python",
   "name": "python",
   "nbconvert_exporter": "python",
   "pygments_lexer": "ipython3",
   "version": "3.9.6"
  }
 },
 "nbformat": 4,
 "nbformat_minor": 5
}
